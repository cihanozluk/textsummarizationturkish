{
  "cells": [
    {
      "cell_type": "markdown",
      "metadata": {
        "id": "view-in-github",
        "colab_type": "text"
      },
      "source": [
        "<a href=\"https://colab.research.google.com/github/cihanozluk/textsummarizationturkish/blob/main/TextRank_sum_turkish.ipynb\" target=\"_parent\"><img src=\"https://colab.research.google.com/assets/colab-badge.svg\" alt=\"Open In Colab\"/></a>"
      ]
    },
    {
      "cell_type": "markdown",
      "source": [
        "Reference\n",
        "\n",
        "\n",
        "\n",
        "https://towardsdatascience.com/understand-text-summarization-and-create-your-own-summarizer-in-python-b26a9f09fc70"
      ],
      "metadata": {
        "id": "h-IglRBB6GwH"
      }
    },
    {
      "cell_type": "code",
      "execution_count": null,
      "metadata": {
        "id": "wHPKumXl6DMf"
      },
      "outputs": [],
      "source": [
        "import pandas as pd\n",
        "import nltk\n",
        "from nltk.corpus import stopwords\n",
        "from nltk.cluster.util import cosine_distance\n",
        "import numpy as np\n",
        "import networkx as nx\n",
        "from nltk.translate.bleu_score import sentence_bleu\n"
      ]
    },
    {
      "cell_type": "code",
      "execution_count": null,
      "metadata": {
        "id": "HCNgcZci6DMh"
      },
      "outputs": [],
      "source": [
        "\n",
        "# Pre-processing steps\n",
        "\n",
        "\n",
        "\n",
        "def sentence_similarity(sent1, sent2, stopwords=None):\n",
        "  if stopwords is None:\n",
        "    stopwords = []\n",
        "\n",
        "  sent1 = [w.lower() for w in sent1]\n",
        "  sent2 = [w.lower() for w in sent2]\n",
        "\n",
        "  all_words = list(set(sent1 + sent2))\n",
        "\n",
        "  vector1 = [0] * len(all_words)\n",
        "  vector2 = [0] * len(all_words)\n",
        "\n",
        "  # Build the vectors\n",
        "  for w in sent1:\n",
        "    if w in stopwords:\n",
        "      continue\n",
        "    vector1[all_words.index(w)] += 1\n",
        "\n",
        "  for w in sent2:\n",
        "    if w in stopwords:\n",
        "      continue\n",
        "    vector2[all_words.index(w)] += 1\n",
        "\n",
        "  return 1 - cosine_distance(vector1, vector2)\n",
        "\n",
        "def build_similarity_matrix(sentences, stop_words):\n",
        "  # Create an empty similarity matrix\n",
        "  similarity_matrix = np.zeros((len(sentences), len(sentences)))\n",
        "\n",
        "  for idx1 in range(len(sentences)):\n",
        "    for idx2 in range(len(sentences)):\n",
        "      if idx1 == idx2: #ignore if both are same sentences\n",
        "        continue\n",
        "      similarity_matrix[idx1][idx2] = sentence_similarity(sentences[idx1], sentences[idx2], stop_words)\n",
        "\n",
        "  return similarity_matrix\n"
      ]
    },
    {
      "cell_type": "code",
      "execution_count": null,
      "metadata": {
        "id": "tt3wRLCL6DMi"
      },
      "outputs": [],
      "source": [
        "\n",
        "# Summarization steps\n",
        "\n",
        "def generate_summary(text, top_n=5, reference_summaries=None):\n",
        "  import nltk\n",
        "  nltk.download('stopwords')\n",
        "  stop_words = stopwords.words('turkish')\n",
        "  stop_words.append(\"bir\")\n",
        "  summarize_text = ''\n",
        "\n",
        "  # Step 1 - Read text and split it\n",
        "  print(text)\n",
        "  sentences = nltk.sent_tokenize(text)\n",
        "\n",
        "  # Step 2 - Generate Similary Martix across sentences\n",
        "  sentence_similarity_martix = build_similarity_matrix(sentences, stop_words)\n",
        "\n",
        "  # Step 3 - Rank sentences in similarity martix\n",
        "  %pip install networkx==2.6.3 \n",
        "  import networkx as nx\n",
        "  sentence_similarity_graph = nx.from_numpy_array(sentence_similarity_martix)\n",
        "  scores = nx.pagerank(sentence_similarity_graph)\n",
        "\n",
        "  # Step 4 - Sort the rank and pick top sentences\n",
        "  \n",
        "  ranked_sentence = sorted(((scores[i],s) for i,s in enumerate(sentences)), reverse=True)\n",
        "  print(\"Indexes of top ranked_sentence order are \", ranked_sentence)    \n",
        "\n",
        "  for i in range(top_n):\n",
        "      summarize_text=ranked_sentence[i][1]\n",
        "\n",
        "    # Step 5 - Offcourse, output the summarize text\n",
        "  print(summarize_text)\n",
        " \n",
        "  return summarize_text\n",
        " \n"
      ]
    },
    {
      "cell_type": "code",
      "execution_count": null,
      "metadata": {
        "colab": {
          "referenced_widgets": [
            "023806c50e2247c2be73911a2419f280"
          ]
        },
        "id": "zlR8Eyyk6DMj",
        "outputId": "86187257-8667-4167-b7a6-4e2969a5d655"
      },
      "outputs": [
        {
          "name": "stderr",
          "output_type": "stream",
          "text": [
            "5310.13s - pydevd: Sending message related to process being replaced timed-out after 5 seconds\n"
          ]
        },
        {
          "name": "stdout",
          "output_type": "stream",
          "text": [
            "Requirement already satisfied: datasets in /Users/cihanozluk/mambaforge/lib/python3.9/site-packages (2.7.1)\n",
            "Requirement already satisfied: pyyaml>=5.1 in /Users/cihanozluk/mambaforge/lib/python3.9/site-packages (from datasets) (6.0)\n",
            "Requirement already satisfied: pandas in /Users/cihanozluk/mambaforge/lib/python3.9/site-packages (from datasets) (1.2.3)\n",
            "Requirement already satisfied: aiohttp in /Users/cihanozluk/mambaforge/lib/python3.9/site-packages (from datasets) (3.8.3)\n",
            "Requirement already satisfied: packaging in /Users/cihanozluk/mambaforge/lib/python3.9/site-packages (from datasets) (21.3)\n",
            "Requirement already satisfied: huggingface-hub<1.0.0,>=0.2.0 in /Users/cihanozluk/mambaforge/lib/python3.9/site-packages (from datasets) (0.11.1)\n",
            "Requirement already satisfied: fsspec[http]>=2021.11.1 in /Users/cihanozluk/mambaforge/lib/python3.9/site-packages (from datasets) (2022.11.0)\n",
            "Requirement already satisfied: requests>=2.19.0 in /Users/cihanozluk/mambaforge/lib/python3.9/site-packages (from datasets) (2.25.1)\n",
            "Requirement already satisfied: xxhash in /Users/cihanozluk/mambaforge/lib/python3.9/site-packages (from datasets) (3.1.0)\n",
            "Requirement already satisfied: responses<0.19 in /Users/cihanozluk/mambaforge/lib/python3.9/site-packages (from datasets) (0.18.0)\n",
            "Requirement already satisfied: numpy>=1.17 in /Users/cihanozluk/mambaforge/lib/python3.9/site-packages (from datasets) (1.20.1)\n",
            "Requirement already satisfied: dill<0.3.7 in /Users/cihanozluk/mambaforge/lib/python3.9/site-packages (from datasets) (0.3.6)\n",
            "Requirement already satisfied: tqdm>=4.62.1 in /Users/cihanozluk/mambaforge/lib/python3.9/site-packages (from datasets) (4.64.1)\n",
            "Requirement already satisfied: multiprocess in /Users/cihanozluk/mambaforge/lib/python3.9/site-packages (from datasets) (0.70.14)\n",
            "Requirement already satisfied: pyarrow>=6.0.0 in /Users/cihanozluk/mambaforge/lib/python3.9/site-packages (from datasets) (10.0.1)\n",
            "Requirement already satisfied: async-timeout<5.0,>=4.0.0a3 in /Users/cihanozluk/mambaforge/lib/python3.9/site-packages (from aiohttp->datasets) (4.0.2)\n",
            "Requirement already satisfied: yarl<2.0,>=1.0 in /Users/cihanozluk/mambaforge/lib/python3.9/site-packages (from aiohttp->datasets) (1.8.2)\n",
            "Requirement already satisfied: aiosignal>=1.1.2 in /Users/cihanozluk/mambaforge/lib/python3.9/site-packages (from aiohttp->datasets) (1.3.1)\n",
            "Requirement already satisfied: attrs>=17.3.0 in /Users/cihanozluk/mambaforge/lib/python3.9/site-packages (from aiohttp->datasets) (22.1.0)\n",
            "Requirement already satisfied: charset-normalizer<3.0,>=2.0 in /Users/cihanozluk/mambaforge/lib/python3.9/site-packages (from aiohttp->datasets) (2.1.1)\n",
            "Requirement already satisfied: frozenlist>=1.1.1 in /Users/cihanozluk/mambaforge/lib/python3.9/site-packages (from aiohttp->datasets) (1.3.3)\n",
            "Requirement already satisfied: multidict<7.0,>=4.5 in /Users/cihanozluk/mambaforge/lib/python3.9/site-packages (from aiohttp->datasets) (6.0.3)\n",
            "Requirement already satisfied: typing-extensions>=3.7.4.3 in /Users/cihanozluk/mambaforge/lib/python3.9/site-packages (from huggingface-hub<1.0.0,>=0.2.0->datasets) (4.4.0)\n",
            "Requirement already satisfied: filelock in /Users/cihanozluk/mambaforge/lib/python3.9/site-packages (from huggingface-hub<1.0.0,>=0.2.0->datasets) (3.8.2)\n",
            "Requirement already satisfied: pyparsing!=3.0.5,>=2.0.2 in /Users/cihanozluk/mambaforge/lib/python3.9/site-packages (from packaging->datasets) (2.4.7)\n",
            "Requirement already satisfied: certifi>=2017.4.17 in /Users/cihanozluk/mambaforge/lib/python3.9/site-packages (from requests>=2.19.0->datasets) (2022.9.24)\n",
            "Requirement already satisfied: idna<3,>=2.5 in /Users/cihanozluk/mambaforge/lib/python3.9/site-packages (from requests>=2.19.0->datasets) (2.10)\n",
            "Requirement already satisfied: urllib3<1.27,>=1.21.1 in /Users/cihanozluk/mambaforge/lib/python3.9/site-packages (from requests>=2.19.0->datasets) (1.26.3)\n",
            "Requirement already satisfied: chardet<5,>=3.0.2 in /Users/cihanozluk/mambaforge/lib/python3.9/site-packages (from requests>=2.19.0->datasets) (4.0.0)\n",
            "Requirement already satisfied: python-dateutil>=2.7.3 in /Users/cihanozluk/mambaforge/lib/python3.9/site-packages (from pandas->datasets) (2.8.2)\n",
            "Requirement already satisfied: pytz>=2017.3 in /Users/cihanozluk/mambaforge/lib/python3.9/site-packages (from pandas->datasets) (2021.1)\n",
            "Requirement already satisfied: six>=1.5 in /Users/cihanozluk/mambaforge/lib/python3.9/site-packages (from python-dateutil>=2.7.3->pandas->datasets) (1.15.0)\n",
            "Note: you may need to restart the kernel to use updated packages.\n"
          ]
        },
        {
          "name": "stderr",
          "output_type": "stream",
          "text": [
            "Found cached dataset mlsum (/Users/cihanozluk/.cache/huggingface/datasets/mlsum/tu/1.0.0/033c69bbbf1eb198d444f668be75f297cb86251c0671a3d063d1c53c2f231076)\n"
          ]
        },
        {
          "data": {
            "application/vnd.jupyter.widget-view+json": {
              "model_id": "023806c50e2247c2be73911a2419f280",
              "version_major": 2,
              "version_minor": 0
            },
            "text/plain": [
              "  0%|          | 0/3 [00:00<?, ?it/s]"
            ]
          },
          "metadata": {},
          "output_type": "display_data"
        },
        {
          "name": "stderr",
          "output_type": "stream",
          "text": [
            "/var/folders/47/w31q_dds73v4q62tskyf5_gc0000gn/T/ipykernel_24809/1255077638.py:12: SettingWithCopyWarning: \n",
            "A value is trying to be set on a copy of a slice from a DataFrame.\n",
            "Try using .loc[row_indexer,col_indexer] = value instead\n",
            "\n",
            "See the caveats in the documentation: https://pandas.pydata.org/pandas-docs/stable/user_guide/indexing.html#returning-a-view-versus-a-copy\n",
            "  all_news['Summarized_Text'] = \"\"\n",
            "[nltk_data] Downloading package stopwords to\n",
            "[nltk_data]     /Users/cihanozluk/nltk_data...\n",
            "[nltk_data]   Package stopwords is already up-to-date!\n"
          ]
        },
        {
          "name": "stdout",
          "output_type": "stream",
          "text": [
            "'Araç sahipleri için pahalı benzine karşı yapılacak çözüm; tasarruf. Shell, Total, BP gibi sektörün önde gelen şirketlerinin araç sahiplerine yaptığı tavsiyelere göre 80 kilometre (km) hızla seyreden bir araç, 100 km hızla giden araca göre yüzde 30 daha az yakıt tüketiyor. Seyir halinde iken gereksiz klima çalıştırmamak, ani gaz-frene basmaktan kaçınmak, aracın camlarını kapalı tutmak tasarruf sağlıyor. Daha az yakıt tüketimi, ilk olarak araç bakımlarının düzenli yapılmasıyla başlıyor. Bunun için motor ve lastik bakımları öne çıkıyor. Kirli bujilerin değiştirilmesi yüzde 5 tasarruf sağlıyor. Lastik havalarının kontrolü, verimi yüzde 3 artırıyor. Gereksiz bagajın maliyeti yüzde 5 daha fazla yakıt tüketmek. En önemli yakıt tasarrufu ise aracın hızıyla sağlanıyor. İngiliz Ulaştırma Bakanlığı çalışmasına göre saatte 100 km hızla giden bir araç, 80 km hızla giden araca göre yüzde 30 daha fazla yakıt harcıyor. Klimanın çalıştırılması, yakıt tüketimini yüzde 8 artırıyor. Uygun motor yağı kullanımı ve temiz yakıt, özellikle filo araçlarına ve kurumlara ciddi tasarruf sağlıyor. Zaman'\n"
          ]
        },
        {
          "name": "stderr",
          "output_type": "stream",
          "text": [
            "/var/folders/47/w31q_dds73v4q62tskyf5_gc0000gn/T/ipykernel_24809/1255077638.py:12: SettingWithCopyWarning: \n",
            "A value is trying to be set on a copy of a slice from a DataFrame.\n",
            "Try using .loc[row_indexer,col_indexer] = value instead\n",
            "\n",
            "See the caveats in the documentation: https://pandas.pydata.org/pandas-docs/stable/user_guide/indexing.html#returning-a-view-versus-a-copy\n",
            "  all_news['Summarized_Text'] = \"\"\n",
            "[nltk_data] Downloading package stopwords to\n",
            "[nltk_data]     /Users/cihanozluk/nltk_data...\n",
            "[nltk_data]   Package stopwords is already up-to-date!\n",
            "5342.50s - pydevd: Sending message related to process being replaced timed-out after 5 seconds\n"
          ]
        },
        {
          "name": "stdout",
          "output_type": "stream",
          "text": [
            "Requirement already satisfied: networkx==2.6.3 in /Users/cihanozluk/mambaforge/lib/python3.9/site-packages (2.6.3)\n",
            "Note: you may need to restart the kernel to use updated packages.\n",
            "Indexes of top ranked_sentence order are  [(0.08271502989249531, 'Seyir halinde iken gereksiz klima çalıştırmamak, ani gaz-frene basmaktan kaçınmak, aracın camlarını kapalı tutmak tasarruf sağlıyor.'), (0.08175761715604095, 'Uygun motor yağı kullanımı ve temiz yakıt, özellikle filo araçlarına ve kurumlara ciddi tasarruf sağlıyor.'), (0.08164620923784134, 'Daha az yakıt tüketimi, ilk olarak araç bakımlarının düzenli yapılmasıyla başlıyor.'), (0.08159177511221548, 'İngiliz Ulaştırma Bakanlığı çalışmasına göre saatte 100 km hızla giden bir araç, 80 km hızla giden araca göre yüzde 30 daha fazla yakıt harcıyor.'), (0.08155646378091848, 'En önemli yakıt tasarrufu ise aracın hızıyla sağlanıyor.'), (0.0806432970953396, \"'Araç sahipleri için pahalı benzine karşı yapılacak çözüm; tasarruf.\"), (0.0800278821061874, 'Lastik havalarının kontrolü, verimi yüzde 3 artırıyor.'), (0.07868925910443048, 'Shell, Total, BP gibi sektörün önde gelen şirketlerinin araç sahiplerine yaptığı tavsiyelere göre 80 kilometre (km) hızla seyreden bir araç, 100 km hızla giden araca göre yüzde 30 daha az yakıt tüketiyor.'), (0.07789900808077972, 'Gereksiz bagajın maliyeti yüzde 5 daha fazla yakıt tüketmek.'), (0.07723618696893722, 'Bunun için motor ve lastik bakımları öne çıkıyor.'), (0.07723180968082932, 'Klimanın çalıştırılması, yakıt tüketimini yüzde 8 artırıyor.'), (0.07066228021623291, 'Kirli bujilerin değiştirilmesi yüzde 5 tasarruf sağlıyor.'), (0.04834318156775163, \"Zaman'\")]\n",
            "Uygun motor yağı kullanımı ve temiz yakıt, özellikle filo araçlarına ve kurumlara ciddi tasarruf sağlıyor.\n",
            "\"İki insanın kaderini birleştiren olay, Adana Seyhan'da yaşandı. Nehrin üzerindeki köprüden geçen Döndü Akçan, dengesini kaybedince 10 metre yüksekten suya düştü. Başı döndüğü için doktora gitmekte olduğunu söyleyen Akçan bir anda düştüğünü söyledi. Akçan’ın nehre düşüşünü oradan geçmekte olan genç öğretmen İbrahim Cenk fark etti. Cenk arabasını durdurup hemen koşarak nehre atladı. Cenk olayı, “Adanayılım, tatile geldim buraya. Kimya öğretmeniyim, can kurtardık demeyelim de her vatandaşın yapması gereken görevi yaptım. Zaten havuza yüzmeye gidiyordum, kısmet nehirde yüzmekmiş, oraya atladık” diyerek anlattı. Hastaneye kaldırılan döndü akçan'ın durumunun iyi olduğu açıklandı.\"\n"
          ]
        },
        {
          "name": "stderr",
          "output_type": "stream",
          "text": [
            "/Users/cihanozluk/mambaforge/lib/python3.9/site-packages/IPython/core/interactiveshell.py:3378: SettingWithCopyWarning: \n",
            "A value is trying to be set on a copy of a slice from a DataFrame\n",
            "\n",
            "See the caveats in the documentation: https://pandas.pydata.org/pandas-docs/stable/user_guide/indexing.html#returning-a-view-versus-a-copy\n",
            "  exec(code_obj, self.user_global_ns, self.user_ns)\n",
            "[nltk_data] Downloading package stopwords to\n",
            "[nltk_data]     /Users/cihanozluk/nltk_data...\n",
            "[nltk_data]   Package stopwords is already up-to-date!\n",
            "/Users/cihanozluk/mambaforge/lib/python3.9/site-packages/IPython/core/interactiveshell.py:3378: SettingWithCopyWarning: \n",
            "A value is trying to be set on a copy of a slice from a DataFrame\n",
            "\n",
            "See the caveats in the documentation: https://pandas.pydata.org/pandas-docs/stable/user_guide/indexing.html#returning-a-view-versus-a-copy\n",
            "  exec(code_obj, self.user_global_ns, self.user_ns)\n",
            "[nltk_data] Downloading package stopwords to\n",
            "[nltk_data]     /Users/cihanozluk/nltk_data...\n",
            "[nltk_data]   Package stopwords is already up-to-date!\n",
            "5348.59s - pydevd: Sending message related to process being replaced timed-out after 5 seconds\n"
          ]
        },
        {
          "name": "stdout",
          "output_type": "stream",
          "text": [
            "Requirement already satisfied: networkx==2.6.3 in /Users/cihanozluk/mambaforge/lib/python3.9/site-packages (2.6.3)\n",
            "Note: you may need to restart the kernel to use updated packages.\n",
            "Indexes of top ranked_sentence order are  [(0.11416512960416131, 'Kimya öğretmeniyim, can kurtardık demeyelim de her vatandaşın yapması gereken görevi yaptım.'), (0.11368923308895601, 'Zaten havuza yüzmeye gidiyordum, kısmet nehirde yüzmekmiş, oraya atladık” diyerek anlattı.'), (0.11209378882243712, 'Akçan’ın nehre düşüşünü oradan geçmekte olan genç öğretmen İbrahim Cenk fark etti.'), (0.11194672797896638, '\"İki insanın kaderini birleştiren olay, Adana Seyhan\\'da yaşandı.'), (0.11180338236713006, 'Başı döndüğü için doktora gitmekte olduğunu söyleyen Akçan bir anda düştüğünü söyledi.'), (0.11148025467999492, 'Cenk arabasını durdurup hemen koşarak nehre atladı.'), (0.108892457441787, 'Nehrin üzerindeki köprüden geçen Döndü Akçan, dengesini kaybedince 10 metre yüksekten suya düştü.'), (0.10800451857993912, 'Cenk olayı, “Adanayılım, tatile geldim buraya.'), (0.10792450743662799, 'Hastaneye kaldırılan döndü akçan\\'ın durumunun iyi olduğu açıklandı.\"')]\n",
            "Zaten havuza yüzmeye gidiyordum, kısmet nehirde yüzmekmiş, oraya atladık” diyerek anlattı.\n",
            "\"Meksika'nın kuzey sınırında bir grup silahlı kişinin parti yapan kalabalığı taradığı, saldırıda 13 kişinin öldüğü bildirildi. Yetkililer, Ciudad Juarez kentinde dün gece düzenlenen saldırıdan sonra parti verilen evin çevresinde yaşları 15 ila 20 olan 13 kişinin cesetlerinin bulunduğunu söylediler. Saldırıda yaralanan 20'den fazla gencin de ambulanslarla hastaneye kaldırıldıkları belirtildi. Yaralıların durumlarının netlik kazanmadığı kaydedildi. Görgü tanıkları, saldırganların en az 15 kişi olduğunu belirtti\"\n"
          ]
        },
        {
          "name": "stderr",
          "output_type": "stream",
          "text": [
            "[nltk_data] Downloading package stopwords to\n",
            "[nltk_data]     /Users/cihanozluk/nltk_data...\n",
            "[nltk_data]   Package stopwords is already up-to-date!\n",
            "[nltk_data] Downloading package stopwords to\n",
            "[nltk_data]     /Users/cihanozluk/nltk_data...\n",
            "[nltk_data]   Package stopwords is already up-to-date!\n",
            "5354.59s - pydevd: Sending message related to process being replaced timed-out after 5 seconds\n"
          ]
        },
        {
          "name": "stdout",
          "output_type": "stream",
          "text": [
            "Requirement already satisfied: networkx==2.6.3 in /Users/cihanozluk/mambaforge/lib/python3.9/site-packages (2.6.3)\n",
            "Note: you may need to restart the kernel to use updated packages.\n",
            "Indexes of top ranked_sentence order are  [(0.20321813862751975, 'Görgü tanıkları, saldırganların en az 15 kişi olduğunu belirtti\"'), (0.2030958127555766, '\"Meksika\\'nın kuzey sınırında bir grup silahlı kişinin parti yapan kalabalığı taradığı, saldırıda 13 kişinin öldüğü bildirildi.'), (0.2023899103183777, \"Saldırıda yaralanan 20'den fazla gencin de ambulanslarla hastaneye kaldırıldıkları belirtildi.\"), (0.20031213971770145, 'Yaralıların durumlarının netlik kazanmadığı kaydedildi.'), (0.19098399858082465, 'Yetkililer, Ciudad Juarez kentinde dün gece düzenlenen saldırıdan sonra parti verilen evin çevresinde yaşları 15 ila 20 olan 13 kişinin cesetlerinin bulunduğunu söylediler.')]\n",
            "\"Meksika'nın kuzey sınırında bir grup silahlı kişinin parti yapan kalabalığı taradığı, saldırıda 13 kişinin öldüğü bildirildi.\n",
            "'Fenerbahçe Teknik Direktörü Christoph Daum, Sivasspor karşısında oynayan futbolcuların bireysel ve takım olarak çok iyi olduklarını söyledi. Sivasspor Teknik Direktörü Muhsin Ertuğral da, bireysel hatalar nedeniyle yenildiklerini belirtti. Turkcell Süper Lig\\'in 19. haftasında Sivasspor\\'a konuk olan lider Fenerbahçe, maçtan 5-1 galip ayrıldı. Maç sonrası bir değerlendirme yapan Fenerbahçe Teknik Direktörü Daum, takım halinde iyi oynadıklarını belirtti. Yedikleri tek gole üzüldüklerini ifade eden Daum, \"Kendi yaptığımız bir hatadan dolayı gol yedik. Daha güvenilir defans yapmamız gerekiyor. Özellikle ikinci devrede iyi futbol oynadık. Defansta iyi organize olduk ve ilerde iyi ataklar gördük. Belki 1-2 gol fazla oldu. çünkü Sivasspor çok iyi bir takım, bizi yine de zorladı. Böyle ilk yarıdaki gibi oynarlarsa eminim Sivassphor da ilerdeki maçlarda istedikleri puanları alırlar. Şubat ayında zor maçlar bekliyor bizi. Perşembe, pazar günü; perşembe pazar günü bu ritimle devam edeceğiz. Bugünkü maç bizim için bir çıkış oldu.\" diye konuştu. Eksik futbolcular nedeniyle kendileri için Sivasspor maçının çok önem kazandığını belirten Uğur Boral da, takım halinde iyi oynadıklarını ve farklı kazandıklarını söyledi. SİVASSSPOR CEPHESİ Sivasspor Teknik Direktörü Muhsin Ertuğral da, maçı değerlendirmek için iyi kelimeler bulmaya çalıştığını söyleyerek söze başladı. 5-1\\'lik yenilginin bir anlamı olmadığını belirten Ertuğral, özellikle ilk yarıda iyi oynadıklarını ancak bireysel hatalardan goller yediklerini anlattı. Ertuğral, \"İkinci yarıda tamamen konsatrasyonumuz bozuldu. Haftalardır inanılmaz bireysel hatalardan gol yiyoruz ve toparlanamıyoruz. Hep \\'bir sonraki haftaya\\' diyoruz. Biz böyle derken lig gittikçe daralıyor. Dolayısıyla önümüzdeki hafta Denizlispor ve devamında Diyarbakır ve Manisaspor ile oynayacağımız maçlarda inanılmaz baskı altında olacağız. Çünkü bugün konsatrasyon bozukluğu yaşamasaydık puanla ayrılabilirdik diye düşünüyorum.\" dedi. Sivasspor\\'un tek golünü atan kaptan Mehmet Yıldız da dönüm maçı olarak baktıkları Fenerbahçe maçını kazanmak için sahaya çıktıklarını dile getirdi. Mehmet, \"İlk yarı başa baş bir mücadele oldu., İkinci yarı yediğimiz basit gollerle mağlup olduk. Bundan sonra önümüzdeki zorlu 3 maçlık periyodu kazanarak biraz rahatlamak istiyoruz.\" dedi. Bu arada karşılaşma öncesi Fenerbahçe Başkanı Aziz Yıldırım, Vali Ali Kolat ve Sivasspor Başkanı Mecnun Otyakmaz ile birlikte 4 Eylül Stadı altında faaliyete geçen \"Kırmızı - beyaz Köfte Piyaz\" isimli lokantanın açılışını yaptı. Açılış sonrası Aziz Yıldırım\\'a, Vali Kolat, Sivas Kongresi\\'nin yapıldığı tarihi binanın gümüş işlemeli plaketini takdim etti.'\n"
          ]
        },
        {
          "name": "stderr",
          "output_type": "stream",
          "text": [
            "[nltk_data] Downloading package stopwords to\n",
            "[nltk_data]     /Users/cihanozluk/nltk_data...\n",
            "[nltk_data]   Package stopwords is already up-to-date!\n",
            "[nltk_data] Downloading package stopwords to\n",
            "[nltk_data]     /Users/cihanozluk/nltk_data...\n",
            "[nltk_data]   Package stopwords is already up-to-date!\n",
            "5360.75s - pydevd: Sending message related to process being replaced timed-out after 5 seconds\n"
          ]
        },
        {
          "name": "stdout",
          "output_type": "stream",
          "text": [
            "Requirement already satisfied: networkx==2.6.3 in /Users/cihanozluk/mambaforge/lib/python3.9/site-packages (2.6.3)\n",
            "Note: you may need to restart the kernel to use updated packages.\n",
            "Indexes of top ranked_sentence order are  [(0.03546840986384635, 'Maç sonrası bir değerlendirme yapan Fenerbahçe Teknik Direktörü Daum, takım halinde iyi oynadıklarını belirtti.'), (0.03537251028341869, \"'Fenerbahçe Teknik Direktörü Christoph Daum, Sivasspor karşısında oynayan futbolcuların bireysel ve takım olarak çok iyi olduklarını söyledi.\"), (0.035313063491952, 'Defansta iyi organize olduk ve ilerde iyi ataklar gördük.'), (0.03509035888348205, 'Eksik futbolcular nedeniyle kendileri için Sivasspor maçının çok önem kazandığını belirten Uğur Boral da, takım halinde iyi oynadıklarını ve farklı kazandıklarını söyledi.'), (0.03506595670813419, 'Yedikleri tek gole üzüldüklerini ifade eden Daum, \"Kendi yaptığımız bir hatadan dolayı gol yedik.'), (0.034803561641795, 'Böyle ilk yarıdaki gibi oynarlarsa eminim Sivassphor da ilerdeki maçlarda istedikleri puanları alırlar.'), (0.034684939279458996, \"5-1\\\\'lik yenilginin bir anlamı olmadığını belirten Ertuğral, özellikle ilk yarıda iyi oynadıklarını ancak bireysel hatalardan goller yediklerini anlattı.\"), (0.03465727999974859, 'Mehmet, \"İlk yarı başa baş bir mücadele oldu., İkinci yarı yediğimiz basit gollerle mağlup olduk.'), (0.03459315122883615, \"Turkcell Süper Lig\\\\'in 19. haftasında Sivasspor\\\\'a konuk olan lider Fenerbahçe, maçtan 5-1 galip ayrıldı.\"), (0.034571416411004925, 'Bu arada karşılaşma öncesi Fenerbahçe Başkanı Aziz Yıldırım, Vali Ali Kolat ve Sivasspor Başkanı Mecnun Otyakmaz ile birlikte 4 Eylül Stadı altında faaliyete geçen \"Kırmızı - beyaz Köfte Piyaz\" isimli lokantanın açılışını yaptı.'), (0.034418131021336125, 'SİVASSSPOR CEPHESİ Sivasspor Teknik Direktörü Muhsin Ertuğral da, maçı değerlendirmek için iyi kelimeler bulmaya çalıştığını söyleyerek söze başladı.'), (0.03404201280383454, 'Daha güvenilir defans yapmamız gerekiyor.'), (0.03402362847893331, \"Açılış sonrası Aziz Yıldırım\\\\'a, Vali Kolat, Sivas Kongresi\\\\'nin yapıldığı tarihi binanın gümüş işlemeli plaketini takdim etti.'\"), (0.0340148380599694, 'Sivasspor Teknik Direktörü Muhsin Ertuğral da, bireysel hatalar nedeniyle yenildiklerini belirtti.'), (0.03393920943939995, 'Biz böyle derken lig gittikçe daralıyor.'), (0.03393105558943374, \"Sivasspor\\\\'un tek golünü atan kaptan Mehmet Yıldız da dönüm maçı olarak baktıkları Fenerbahçe maçını kazanmak için sahaya çıktıklarını dile getirdi.\"), (0.03374484749299306, 'Bundan sonra önümüzdeki zorlu 3 maçlık periyodu kazanarak biraz rahatlamak istiyoruz.\"'), (0.033521038500311004, 'Şubat ayında zor maçlar bekliyor bizi.'), (0.03343452713759719, 'Dolayısıyla önümüzdeki hafta Denizlispor ve devamında Diyarbakır ve Manisaspor ile oynayacağımız maçlarda inanılmaz baskı altında olacağız.'), (0.03333061956423068, 'çünkü Sivasspor çok iyi bir takım, bizi yine de zorladı.'), (0.03272300957208798, 'Haftalardır inanılmaz bireysel hatalardan gol yiyoruz ve toparlanamıyoruz.'), (0.03262267669004746, 'Özellikle ikinci devrede iyi futbol oynadık.'), (0.032330559114076805, 'Ertuğral, \"İkinci yarıda tamamen konsatrasyonumuz bozuldu.'), (0.032288279952078315, 'Çünkü bugün konsatrasyon bozukluğu yaşamasaydık puanla ayrılabilirdik diye düşünüyorum.\"'), (0.03132429191601585, \"Hep \\\\'bir sonraki haftaya\\\\' diyoruz.\"), (0.030384412764299366, 'Perşembe, pazar günü; perşembe pazar günü bu ritimle devam edeceğiz.'), (0.02919152101559199, 'Bugünkü maç bizim için bir çıkış oldu.\"'), (0.028577145045848545, 'Belki 1-2 gol fazla oldu.'), (0.02474731263108844, 'diye konuştu.'), (0.018895117709574638, 'dedi.'), (0.018895117709574638, 'dedi.')]\n",
            "'Fenerbahçe Teknik Direktörü Christoph Daum, Sivasspor karşısında oynayan futbolcuların bireysel ve takım olarak çok iyi olduklarını söyledi.\n",
            "\"İslam Konferansı Teşkilatı (İKT) Daimi Konsey Toplantısı yapıldı. İsviçre'deki minare krizinin görüşüldüğü ve 57 üye ülke temsilcilerinin katıldığı toplantıdan sonra yapılan açıklamada, bir kez daha İsviçre hükümetinin attığı bu adımdan duyulan üzüntü ve endişe dile getirildi. İKT Genel Sekreteri Ekmeleddin İhsanoğlu, AA'ya yaptığı açıklamada, İsviçre hükümetinin aldığı bu kararın kendileri için büyük bir sürpriz olduğunu belirterek, İsviçre hükümetinin de aslında böyle bir kararı beklemediğini ve onlar için de sürpriz olduğunu söyledi. İhsanoğlu, alınan karar sonrası İsviçre Dışişleri Bakanı'nın, kendisini telefonla arayarak, duyduğunu üzüntüyü dile getirdiğini ifade ederek, bugünkü toplantıda bu konunun görüşüldüğünü ve durum değerlendirmesi yapıldığını kaydetti. Türkiye'yi Cidde Başkonsolusu Salih Mutlu Şen'in temsil ettiği konsey toplantısında, üyeler arasında ''minare krizi''nin çok ciddi şekilde tartışıldığı öğrenildi. Daimi konsey üyelerinin yaptığı toplantıdan sonra yapılan açıklamada, İsviçre hükümetinin attığı bu adımın, demokrasi, insan hakları, dini özgürlükler gibi kavramların tamamıyla çeliştiğine vurgu yapıldı. Açıklamada, minarelerin İslam kültürünün bir parçası olduğu bir kez daha dile getirildi. Özellikle BM İnsan Hakları Yüksek Komiserliğinin konuyla ilgili açıklaması, Daimi Konsey üyelerince olumlu karşılanırken, bundan sonraki dönemlerde de İKT üye ülkeleriyle işbirliği içinde çalışılmasının önemine değinildi. Daimi Konsey açıklamasında, üyelerin, İKT Genel Sekreteri Ekmelettin İhsanoğlu'nun konunun tüm dünyaya duyurulması için gösterdiği yoğun çabaları takdirle karşıladığı, bu çabaların desteklenmeye devam edileceği bildirildi. Açıklamada, Suudi Arabistan Kralı Abdullah'ın İslam hakkında dün\"\n"
          ]
        },
        {
          "name": "stderr",
          "output_type": "stream",
          "text": [
            "[nltk_data] Downloading package stopwords to\n",
            "[nltk_data]     /Users/cihanozluk/nltk_data...\n",
            "[nltk_data]   Package stopwords is already up-to-date!\n",
            "[nltk_data] Downloading package stopwords to\n",
            "[nltk_data]     /Users/cihanozluk/nltk_data...\n",
            "[nltk_data]   Package stopwords is already up-to-date!\n",
            "5366.67s - pydevd: Sending message related to process being replaced timed-out after 5 seconds\n"
          ]
        },
        {
          "name": "stdout",
          "output_type": "stream",
          "text": [
            "Requirement already satisfied: networkx==2.6.3 in /Users/cihanozluk/mambaforge/lib/python3.9/site-packages (2.6.3)\n",
            "Note: you may need to restart the kernel to use updated packages.\n",
            "Indexes of top ranked_sentence order are  [(0.10311905705271095, \"Daimi Konsey açıklamasında, üyelerin, İKT Genel Sekreteri Ekmelettin İhsanoğlu'nun konunun tüm dünyaya duyurulması için gösterdiği yoğun çabaları takdirle karşıladığı, bu çabaların desteklenmeye devam edileceği bildirildi.\"), (0.10297981917629448, \"İsviçre'deki minare krizinin görüşüldüğü ve 57 üye ülke temsilcilerinin katıldığı toplantıdan sonra yapılan açıklamada, bir kez daha İsviçre hükümetinin attığı bu adımdan duyulan üzüntü ve endişe dile getirildi.\"), (0.10251462797925727, 'Daimi konsey üyelerinin yaptığı toplantıdan sonra yapılan açıklamada, İsviçre hükümetinin attığı bu adımın, demokrasi, insan hakları, dini özgürlükler gibi kavramların tamamıyla çeliştiğine vurgu yapıldı.'), (0.1019600677088238, \"İKT Genel Sekreteri Ekmeleddin İhsanoğlu, AA'ya yaptığı açıklamada, İsviçre hükümetinin aldığı bu kararın kendileri için büyük bir sürpriz olduğunu belirterek, İsviçre hükümetinin de aslında böyle bir kararı beklemediğini ve onlar için de sürpriz olduğunu söyledi.\"), (0.1018813930007401, \"İhsanoğlu, alınan karar sonrası İsviçre Dışişleri Bakanı'nın, kendisini telefonla arayarak, duyduğunu üzüntüyü dile getirdiğini ifade ederek, bugünkü toplantıda bu konunun görüşüldüğünü ve durum değerlendirmesi yapıldığını kaydetti.\"), (0.10118054854060587, 'Açıklamada, minarelerin İslam kültürünün bir parçası olduğu bir kez daha dile getirildi.'), (0.10068021298526723, \"Türkiye'yi Cidde Başkonsolusu Salih Mutlu Şen'in temsil ettiği konsey toplantısında, üyeler arasında ''minare krizi''nin çok ciddi şekilde tartışıldığı öğrenildi.\"), (0.1005170310828041, 'Özellikle BM İnsan Hakları Yüksek Komiserliğinin konuyla ilgili açıklaması, Daimi Konsey üyelerince olumlu karşılanırken, bundan sonraki dönemlerde de İKT üye ülkeleriyle işbirliği içinde çalışılmasının önemine değinildi.'), (0.09474920491171454, '\"İslam Konferansı Teşkilatı (İKT) Daimi Konsey Toplantısı yapıldı.'), (0.09041803756178173, 'Açıklamada, Suudi Arabistan Kralı Abdullah\\'ın İslam hakkında dün\"')]\n",
            "İsviçre'deki minare krizinin görüşüldüğü ve 57 üye ülke temsilcilerinin katıldığı toplantıdan sonra yapılan açıklamada, bir kez daha İsviçre hükümetinin attığı bu adımdan duyulan üzüntü ve endişe dile getirildi.\n"
          ]
        }
      ],
      "source": [
        "\n",
        "%pip install datasets\n",
        "from datasets import load_dataset\n",
        "dataset = load_dataset(\n",
        "   'mlsum', 'tu')\n",
        "\n",
        "\n",
        "\n",
        "\n",
        "df = pd.DataFrame(dataset['train'], columns=dataset['train'].features)\n",
        "\n",
        "all_news = df.head()\n",
        "all_news['Summarized_Text'] = \"\"\n",
        "for i in range(all_news.shape[0]):\n",
        "    all_news['Summarized_Text'][i] = generate_summary(repr(all_news['text'][i]),2)"
      ]
    },
    {
      "cell_type": "code",
      "execution_count": null,
      "metadata": {
        "id": "jfBNGRRG6DMl",
        "outputId": "d0bff5e1-323c-4214-d107-c952754d2c29"
      },
      "outputs": [
        {
          "name": "stdout",
          "output_type": "stream",
          "text": [
            "                                                text  \\\n",
            "0  Araç sahipleri için pahalı benzine karşı yapıl...   \n",
            "1  İki insanın kaderini birleştiren olay, Adana S...   \n",
            "2  Meksika'nın kuzey sınırında bir grup silahlı k...   \n",
            "3  Fenerbahçe Teknik Direktörü Christoph Daum, Si...   \n",
            "4  İslam Konferansı Teşkilatı (İKT) Daimi Konsey ...   \n",
            "\n",
            "                                             summary    topic  \\\n",
            "0  Benzinin litresi 4 liraya yaklaştı. Aslında ar...  unknown   \n",
            "1  Seyhan Nehri\"ne düştüğünü gören genç öğretmen,...  unknown   \n",
            "2  Meksika'da parti düzenlenen bir eve yapılan sa...  unknown   \n",
            "3  Fenerbahçe Teknik Direktörü Christoph Daum, Si...  unknown   \n",
            "4  İslam Konferansı'nda 57 ülkenin temsilcisi İsv...  unknown   \n",
            "\n",
            "                                                 url  \\\n",
            "0  https://www.internethaber.com/aracinizda-yuzde...   \n",
            "1  https://www.internethaber.com/kahraman-ogretme...   \n",
            "2  https://www.internethaber.com/parti-yapanlari-...   \n",
            "3  https://www.internethaber.com/daum-oynanan-oyu...   \n",
            "4  https://www.internethaber.com/islam-konferansi...   \n",
            "\n",
            "                                title        date  \\\n",
            "0   Aracınızda yüzde 30 tarassuf edin  00/01/2010   \n",
            "1    Kahraman öğretmen hayat kurtardı  00/01/2010   \n",
            "2   Parti yapanları taradılar: 13 ölü  00/01/2010   \n",
            "3         Daum oynanan oyundan memnun  00/01/2010   \n",
            "4  İslam Konferansında minare tepkisi  00/01/2010   \n",
            "\n",
            "                                     Summarized_Text  \n",
            "0  Uygun motor yağı kullanımı ve temiz yakıt, öze...  \n",
            "1  Zaten havuza yüzmeye gidiyordum, kısmet nehird...  \n",
            "2  \"Meksika'nın kuzey sınırında bir grup silahlı ...  \n",
            "3  'Fenerbahçe Teknik Direktörü Christoph Daum, S...  \n",
            "4  İsviçre'deki minare krizinin görüşüldüğü ve 57...  \n"
          ]
        }
      ],
      "source": [
        "print(all_news)"
      ]
    },
    {
      "cell_type": "code",
      "execution_count": null,
      "metadata": {
        "id": "OOLAY7Dz6DMl"
      },
      "outputs": [],
      "source": [
        "def calculate_bleu(generated_summary, reference_summaries):\n",
        "  \n",
        "  # Convert the summary and reference summaries to lists of sentences\n",
        "  generated_sentences = generated_summary\n",
        "  print(generated_sentences)\n",
        "  \n",
        "  reference_sentences = reference_summaries\n",
        "  print(reference_sentences)\n",
        "  \n",
        "  # Calculate the BLEU score\n",
        "  print('Individual 1-gram: %f' % sentence_bleu(reference_sentences, generated_sentences, weights=(1, 0, 0, 0)))\n",
        "  print('Individual 2-gram: %f' % sentence_bleu(reference_sentences, generated_sentences, weights=(0, 1, 0, 0)))\n",
        "  print('Individual 3-gram: %f' % sentence_bleu(reference_sentences, generated_sentences, weights=(0, 0, 1, 0)))\n",
        "  print('Individual 4-gram: %f' % sentence_bleu(reference_sentences, generated_sentences, weights=(0, 0, 0, 1)))\n",
        "\n",
        "  score = sentence_bleu(reference_sentences, generated_sentences, weights=(1, 0, 0, 0))\n",
        "  print(score)\n",
        "\n",
        "  return score"
      ]
    },
    {
      "cell_type": "code",
      "execution_count": null,
      "metadata": {
        "id": "QFVfOTn76DMm",
        "outputId": "9f43fb72-5fe4-4deb-af1c-3a9854fced2a"
      },
      "outputs": [
        {
          "name": "stdout",
          "output_type": "stream",
          "text": [
            "Uygun motor yağı kullanımı ve temiz yakıt, özellikle filo araçlarına ve kurumlara ciddi tasarruf sağlıyor.\n",
            "Benzinin litresi 4 liraya yaklaştı. Aslında aracınızda çok küçük bir dikkatle akaryakıtta yüzde 30 kar edebilirsiniz.\n",
            "Individual 1-gram: 0.169811\n",
            "Individual 2-gram: 0.000000\n",
            "Individual 3-gram: 0.000000\n",
            "Individual 4-gram: 0.000000\n",
            "0.169811320754717\n",
            "0.17\n",
            "Zaten havuza yüzmeye gidiyordum, kısmet nehirde yüzmekmiş, oraya atladık” diyerek anlattı.\n",
            "Seyhan Nehri\"ne düştüğünü gören genç öğretmen, hemen nehre atlayıp hasta kadını kurtardı.\n",
            "Individual 1-gram: 0.233333\n",
            "Individual 2-gram: 0.000000\n",
            "Individual 3-gram: 0.000000\n",
            "Individual 4-gram: 0.000000\n",
            "0.23333333333333334\n",
            "0.23\n",
            "\"Meksika'nın kuzey sınırında bir grup silahlı kişinin parti yapan kalabalığı taradığı, saldırıda 13 kişinin öldüğü bildirildi.\n",
            "Meksika'da parti düzenlenen bir eve yapılan saldırıda ilk belirlemelere göre 13 kişi yaşamını yitirdi.\n",
            "Individual 1-gram: 0.198413\n",
            "Individual 2-gram: 0.000000\n",
            "Individual 3-gram: 0.000000\n",
            "Individual 4-gram: 0.000000\n",
            "0.19841269841269837\n",
            "0.20\n",
            "'Fenerbahçe Teknik Direktörü Christoph Daum, Sivasspor karşısında oynayan futbolcuların bireysel ve takım olarak çok iyi olduklarını söyledi.\n",
            "Fenerbahçe Teknik Direktörü Christoph Daum, Sivasspor karşısında takım olarak iyi oynadıklarını söyledi.\n",
            "Individual 1-gram: 0.219858\n",
            "Individual 2-gram: 0.000000\n",
            "Individual 3-gram: 0.000000\n",
            "Individual 4-gram: 0.000000\n",
            "0.2198581560283688\n",
            "0.22\n",
            "İsviçre'deki minare krizinin görüşüldüğü ve 57 üye ülke temsilcilerinin katıldığı toplantıdan sonra yapılan açıklamada, bir kez daha İsviçre hükümetinin attığı bu adımdan duyulan üzüntü ve endişe dile getirildi.\n",
            "İslam Konferansı'nda 57 ülkenin temsilcisi İsviçre'de alınan minare yasağına tepki gösterdi.\n",
            "Individual 1-gram: 0.132701\n",
            "Individual 2-gram: 0.000000\n",
            "Individual 3-gram: 0.000000\n",
            "Individual 4-gram: 0.000000\n",
            "0.13270142180094788\n",
            "0.13\n"
          ]
        }
      ],
      "source": [
        "for i in range(all_news.shape[0]):\n",
        "    print(\"{:.2f}\".format(calculate_bleu(all_news['Summarized_Text'][i],all_news['summary'][i])))"
      ]
    },
    {
      "cell_type": "code",
      "execution_count": null,
      "metadata": {
        "id": "Ylk4778w6DMm"
      },
      "outputs": [],
      "source": []
    }
  ],
  "metadata": {
    "kernelspec": {
      "display_name": "Python 3.9.2 ('base')",
      "language": "python",
      "name": "python3"
    },
    "language_info": {
      "codemirror_mode": {
        "name": "ipython",
        "version": 3
      },
      "file_extension": ".py",
      "mimetype": "text/x-python",
      "name": "python",
      "nbconvert_exporter": "python",
      "pygments_lexer": "ipython3",
      "version": "3.9.2"
    },
    "orig_nbformat": 4,
    "vscode": {
      "interpreter": {
        "hash": "85726f2ab3c0ea57dea71e5453d51e1a9534b3a1671f57ae1033d502187a4e82"
      }
    },
    "colab": {
      "provenance": [],
      "include_colab_link": true
    }
  },
  "nbformat": 4,
  "nbformat_minor": 0
}